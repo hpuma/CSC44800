{
 "cells": [
  {
   "cell_type": "markdown",
   "metadata": {},
   "source": [
    "<a href=\"https://colab.research.google.com/github/hpuma/CSC44800/blob/main/Assignment3/Henry_Puma_Linear_Regression_Assignment3.ipynb#scrollTo=sdAQfDqX_6Lv\" target=\"_parent\"><img src=\"https://colab.research.google.com/assets/colab-badge.svg\" alt=\"Open In Colab\"/></a>\n",
    "\n",
    "\\(\\^Be sure to update this button to point to your notebook instead of the sample notebook\\)"
   ]
  },
  {
   "cell_type": "code",
   "execution_count": 105,
   "metadata": {},
   "outputs": [],
   "source": [
    "# Imports section\n",
    "import numpy as np\n",
    "import pandas as pd\n",
    "from sklearn.pipeline import Pipeline\n",
    "from sklearn import datasets, linear_model\n",
    "from sklearn.linear_model import LinearRegression\n",
    "from sklearn.preprocessing import PolynomialFeatures\n",
    "from sklearn.metrics import mean_squared_error, r2_score\n",
    "from sklearn.model_selection import train_test_split,cross_val_score"
   ]
  },
  {
   "cell_type": "markdown",
   "metadata": {},
   "source": [
    "## Part 1. Loading the dataset"
   ]
  },
  {
   "cell_type": "code",
   "execution_count": 80,
   "metadata": {},
   "outputs": [
    {
     "data": {
      "text/html": [
       "<div>\n",
       "<style scoped>\n",
       "    .dataframe tbody tr th:only-of-type {\n",
       "        vertical-align: middle;\n",
       "    }\n",
       "\n",
       "    .dataframe tbody tr th {\n",
       "        vertical-align: top;\n",
       "    }\n",
       "\n",
       "    .dataframe thead th {\n",
       "        text-align: right;\n",
       "    }\n",
       "</style>\n",
       "<table border=\"1\" class=\"dataframe\">\n",
       "  <thead>\n",
       "    <tr style=\"text-align: right;\">\n",
       "      <th></th>\n",
       "      <th>Temperature °C</th>\n",
       "      <th>Mols KCL</th>\n",
       "      <th>Size nm^3</th>\n",
       "    </tr>\n",
       "  </thead>\n",
       "  <tbody>\n",
       "    <tr>\n",
       "      <th>0</th>\n",
       "      <td>469</td>\n",
       "      <td>647</td>\n",
       "      <td>6.244743e+05</td>\n",
       "    </tr>\n",
       "    <tr>\n",
       "      <th>1</th>\n",
       "      <td>403</td>\n",
       "      <td>694</td>\n",
       "      <td>5.779610e+05</td>\n",
       "    </tr>\n",
       "    <tr>\n",
       "      <th>2</th>\n",
       "      <td>302</td>\n",
       "      <td>975</td>\n",
       "      <td>6.196847e+05</td>\n",
       "    </tr>\n",
       "    <tr>\n",
       "      <th>3</th>\n",
       "      <td>779</td>\n",
       "      <td>916</td>\n",
       "      <td>1.460449e+06</td>\n",
       "    </tr>\n",
       "    <tr>\n",
       "      <th>4</th>\n",
       "      <td>901</td>\n",
       "      <td>18</td>\n",
       "      <td>4.325726e+04</td>\n",
       "    </tr>\n",
       "    <tr>\n",
       "      <th>5</th>\n",
       "      <td>545</td>\n",
       "      <td>637</td>\n",
       "      <td>7.124634e+05</td>\n",
       "    </tr>\n",
       "    <tr>\n",
       "      <th>6</th>\n",
       "      <td>660</td>\n",
       "      <td>519</td>\n",
       "      <td>7.006960e+05</td>\n",
       "    </tr>\n",
       "    <tr>\n",
       "      <th>7</th>\n",
       "      <td>143</td>\n",
       "      <td>869</td>\n",
       "      <td>2.718260e+05</td>\n",
       "    </tr>\n",
       "    <tr>\n",
       "      <th>8</th>\n",
       "      <td>89</td>\n",
       "      <td>461</td>\n",
       "      <td>8.919803e+04</td>\n",
       "    </tr>\n",
       "    <tr>\n",
       "      <th>9</th>\n",
       "      <td>294</td>\n",
       "      <td>776</td>\n",
       "      <td>4.770210e+05</td>\n",
       "    </tr>\n",
       "    <tr>\n",
       "      <th>10</th>\n",
       "      <td>991</td>\n",
       "      <td>117</td>\n",
       "      <td>2.441771e+05</td>\n",
       "    </tr>\n",
       "    <tr>\n",
       "      <th>11</th>\n",
       "      <td>307</td>\n",
       "      <td>781</td>\n",
       "      <td>5.006455e+05</td>\n",
       "    </tr>\n",
       "    <tr>\n",
       "      <th>12</th>\n",
       "      <td>206</td>\n",
       "      <td>70</td>\n",
       "      <td>3.145200e+04</td>\n",
       "    </tr>\n",
       "    <tr>\n",
       "      <th>13</th>\n",
       "      <td>437</td>\n",
       "      <td>599</td>\n",
       "      <td>5.390215e+05</td>\n",
       "    </tr>\n",
       "    <tr>\n",
       "      <th>14</th>\n",
       "      <td>566</td>\n",
       "      <td>75</td>\n",
       "      <td>9.185271e+04</td>\n",
       "    </tr>\n",
       "  </tbody>\n",
       "</table>\n",
       "</div>"
      ],
      "text/plain": [
       "    Temperature °C  Mols KCL     Size nm^3\n",
       "0              469       647  6.244743e+05\n",
       "1              403       694  5.779610e+05\n",
       "2              302       975  6.196847e+05\n",
       "3              779       916  1.460449e+06\n",
       "4              901        18  4.325726e+04\n",
       "5              545       637  7.124634e+05\n",
       "6              660       519  7.006960e+05\n",
       "7              143       869  2.718260e+05\n",
       "8               89       461  8.919803e+04\n",
       "9              294       776  4.770210e+05\n",
       "10             991       117  2.441771e+05\n",
       "11             307       781  5.006455e+05\n",
       "12             206        70  3.145200e+04\n",
       "13             437       599  5.390215e+05\n",
       "14             566        75  9.185271e+04"
      ]
     },
     "execution_count": 80,
     "metadata": {},
     "output_type": "execute_result"
    }
   ],
   "source": [
    "# 1 Using pandas load the dataset (load remotely, not locally)\n",
    "# 2.Output the first 15 rows of the data\n",
    "csv_url = \"https://raw.githubusercontent.com/profmcnich/example_notebook/main/science_data_large.csv\"\n",
    "data = pd.read_csv(csv_url)\n",
    "data.head(15)"
   ]
  },
  {
   "cell_type": "code",
   "execution_count": 81,
   "metadata": {},
   "outputs": [
    {
     "name": "stdout",
     "output_type": "stream",
     "text": [
      "<class 'pandas.core.frame.DataFrame'>\n",
      "RangeIndex: 1000 entries, 0 to 999\n",
      "Data columns (total 3 columns):\n",
      " #   Column          Non-Null Count  Dtype  \n",
      "---  ------          --------------  -----  \n",
      " 0   Temperature °C  1000 non-null   int64  \n",
      " 1   Mols KCL        1000 non-null   int64  \n",
      " 2   Size nm^3       1000 non-null   float64\n",
      "dtypes: float64(1), int64(2)\n",
      "memory usage: 23.6 KB\n"
     ]
    }
   ],
   "source": [
    "# 3.Display a summary of the table information (number of datapoints, etc.)\n",
    "data.info()"
   ]
  },
  {
   "cell_type": "markdown",
   "metadata": {},
   "source": [
    "## Part 2. Splitting the dataset"
   ]
  },
  {
   "cell_type": "code",
   "execution_count": 82,
   "metadata": {},
   "outputs": [
    {
     "data": {
      "text/plain": [
       "(   Temperature °C  Mols KCL\n",
       " 0             469       647\n",
       " 1             403       694\n",
       " 2             302       975\n",
       " 3             779       916\n",
       " 4             901        18,\n",
       "       Size nm^3\n",
       " 0  6.244743e+05\n",
       " 1  5.779610e+05\n",
       " 2  6.196847e+05\n",
       " 3  1.460449e+06\n",
       " 4  4.325726e+04)"
      ]
     },
     "execution_count": 82,
     "metadata": {},
     "output_type": "execute_result"
    }
   ],
   "source": [
    "# Take the pandas dataset and split it into our features (X) and label (y)\n",
    "# Use sklearn to split the features and labels into a training/test set. (90% train, 10% test)\n",
    "'''\n",
    "Independent variable - factors that will contribute to the output of the dependent variable (y)\n",
    "Here we include ALL the rows, but only take in the Temperature and Mols of KCL columns (index 0:2) <-> index 1, and 2 \n",
    "''' \n",
    "X = data.iloc[:,0:2]\n",
    "'''\n",
    "Dependent variable - value that was measured as the output from the independent variables\n",
    "Like before, we get all the rows from the data but ONLY take in the Size nm^3 column (index 3)\n",
    "''' \n",
    "y = data.iloc[:,2:3]\n",
    "X.head(), y.head()"
   ]
  },
  {
   "cell_type": "code",
   "execution_count": 83,
   "metadata": {},
   "outputs": [
    {
     "data": {
      "text/plain": [
       "((900, 2), (100, 2), (900, 1), (100, 1))"
      ]
     },
     "execution_count": 83,
     "metadata": {},
     "output_type": "execute_result"
    }
   ],
   "source": [
    "'''\n",
    "Split data where we have 90% training and 10% testing\n",
    "X: shape = (1000, 2)\n",
    "y: shape = (1000, 1)\n",
    "'''\n",
    "X_train, X_test, y_train, y_test = train_test_split(X, y, test_size=0.10)\n",
    "X_train.shape, X_test.shape, y_train.shape, y_test.shape"
   ]
  },
  {
   "cell_type": "markdown",
   "metadata": {},
   "source": [
    "## Part 3. Perform a Linear Regression"
   ]
  },
  {
   "cell_type": "code",
   "execution_count": 84,
   "metadata": {},
   "outputs": [
    {
     "name": "stdout",
     "output_type": "stream",
     "text": [
      "R^2= 0.8555399490767951\n"
     ]
    }
   ],
   "source": [
    "# Use sklearn to train a model on the training set\n",
    "lr_model = linear_model.LinearRegression().fit(X_train, y_train)\n",
    "\n",
    "# Create a sample datapoint and predict the output of that sample with the trained model\n",
    "data_point = X_test.iloc[:1].values\n",
    "prediction = lr_model.predict(data_point)\n",
    "\n",
    "r2_score = lr_model.score(X_train, y_train)\n",
    "print(\"R^2=\", r2_score)"
   ]
  },
  {
   "cell_type": "code",
   "execution_count": 85,
   "metadata": {},
   "outputs": [],
   "source": [
    "# Report on the score for that model, in your own words (markdown, not code) explain what the score means"
   ]
  },
  {
   "attachments": {},
   "cell_type": "markdown",
   "metadata": {},
   "source": [
    "# Score explanation\n",
    "    The lr_model.score() method returns the coefficient of determination from our prediction. In other words, this is the R^2 (Residual squared) value. The R^2 value is an indicator of how good of a job our model does in predicting our data point (in our case, the **data_point value**). \n",
    "    Using my linear regression model, I was able to get the value of R^2 to be 0.8606240251784951. An R^2 value has a range of (-1.0 <= R^2 <= 1.0). A score of 1.0 means that our model is perfectly fitted to our data point. Since our R^2 ~ 0.86 and relatively close to 1.0, we can say that my model does an adequate at predicting our data point."
   ]
  },
  {
   "cell_type": "code",
   "execution_count": 86,
   "metadata": {},
   "outputs": [],
   "source": [
    "# Extract the coefficients and intercept from the model and write an equation for your h(x) using LaTeX"
   ]
  },
  {
   "cell_type": "code",
   "execution_count": 87,
   "metadata": {},
   "outputs": [
    {
     "name": "stdout",
     "output_type": "stream",
     "text": [
      "R^2 = 0.8555399490767951\n",
      "Coefficents [[ 873.77642614 1025.05000166]]\n",
      "Intercept [-415658.25994301]\n"
     ]
    }
   ],
   "source": [
    "prediction2 = lr_model.predict(X_test)\n",
    "r2_score2 = lr_model.score(X_train, y_train)\n",
    "coefficients, intercept = lr_model.coef_, lr_model.intercept_\n",
    "print(f\"R^2 = {r2_score2}\")\n",
    "print(f\"Coefficents {coefficients}\")\n",
    "print(f\"Intercept {intercept}\")"
   ]
  },
  {
   "cell_type": "markdown",
   "metadata": {},
   "source": [
    "# H(X) function \n",
    "\n",
    "Using the extracted values from above, I was able to formulate the following equation:\n",
    "$$ (x) = 869.91_{x1} + 1023.50_{x2} - 409461.17$$"
   ]
  },
  {
   "cell_type": "markdown",
   "metadata": {},
   "source": [
    "## Part 4. Use Cross Validation"
   ]
  },
  {
   "cell_type": "code",
   "execution_count": 88,
   "metadata": {},
   "outputs": [
    {
     "name": "stdout",
     "output_type": "stream",
     "text": [
      "Mean: 0.8568167899144437\n",
      "Std dev 0.013466307372096023\n"
     ]
    }
   ],
   "source": [
    "# Use the cross_val_score function to repeat your experiment across many shuffles of the data\n",
    "scores = cross_val_score(lr_model, X, y, cv = 5)\n",
    "print(f\"Mean: {scores.mean()}\\nStd dev {scores.std()}\")\n",
    "# Report on their finding and their significance"
   ]
  },
  {
   "cell_type": "markdown",
   "metadata": {},
   "source": [
    "# Cross Validation Findings\n",
    "- With our result above, I was able to find the lowest score to be 0.83918826 and the highest score 0.87051239. The scores remained lightly consistent ( greater than 0.80).\n",
    "- I was also able to find the Mean of all the scores to be ~ 0.86 with a standard deviation of ~ 0.013."
   ]
  },
  {
   "cell_type": "markdown",
   "metadata": {},
   "source": [
    "## Part 5. Using Polynomial Regression"
   ]
  },
  {
   "cell_type": "code",
   "execution_count": 116,
   "metadata": {},
   "outputs": [
    {
     "name": "stdout",
     "output_type": "stream",
     "text": [
      "     Temperature °C  Mols KCL\n",
      "0               469       647\n",
      "1               403       694\n",
      "2               302       975\n",
      "3               779       916\n",
      "4               901        18\n",
      "..              ...       ...\n",
      "995             894       847\n",
      "996             327       982\n",
      "997             791       213\n",
      "998             769       553\n",
      "999             919       452\n",
      "\n",
      "[1000 rows x 2 columns]\n",
      "R^2 = 1.0\n",
      "Coefficents: [[-2.67367470e-07  2.51592989e-07  6.00000001e+00 -6.94148522e-07\n",
      "   2.98470045e-08  6.66666686e-01  9.52381118e-03 -2.07536668e-10\n",
      "   6.00000005e+00 -6.43604053e-07 -1.57504285e-08  6.66666657e-01\n",
      "   9.52381031e-03 -1.57505141e-08  6.66666657e-01  1.27428223e-12\n",
      "  -5.80668145e-10 -4.49881711e-10  9.52381031e-03  5.81216776e-10\n",
      "   4.47644315e-10 -3.72017896e-12  9.53620609e-16 -4.14503831e-16\n",
      "   3.38543092e-07 -3.38543092e-07  1.94583500e-15  1.70072964e-15]]\n",
      "\n",
      "Intercept: [8.78647552e-05]\n"
     ]
    }
   ],
   "source": [
    "# Using the PolynomialFeatures library perform another regression on an augmented dataset of degree 2\n",
    "'''\n",
    "Transforming inpu\n",
    "'''\n",
    "poly_transform = PolynomialFeatures(degree=2)\n",
    "\n",
    "X2 = data.iloc[:,0:2]\n",
    "print(X2)\n",
    "\n",
    "new_X = poly_transform.fit_transform(X)\n",
    "\n",
    "X_train2, X_test2, y_train2, y_test2 = train_test_split(new_X, y, test_size=0.10)\n",
    "\n",
    "\n",
    "model_pipeline = Pipeline([('poly', PolynomialFeatures(degree=2)),('linear', LinearRegression())])\n",
    "\n",
    "lr_model2 = model_pipeline.fit(X_train2, y_train2)\n",
    "\n",
    "prediction3 = lr_model2.predict(X_test2)\n",
    "r2_score3 = lr_model2.score(X_train2, y_train2)\n",
    "\n",
    "lin_steps = lr_model2.named_steps['linear']\n",
    "\n",
    "coefficients2, intercept2 = lin_steps.coef_ , lin_steps.intercept_\n",
    "# Report on the metrics and output the resultant equation as you did in Part 3.\n",
    "print(f\"R^2 = {r2_score3}\")\n",
    "print(f\"Coefficents: {coefficients2}\", end=\"\\n\\n\")\n",
    "print(f\"Intercept: {intercept2}\")"
   ]
  },
  {
   "cell_type": "markdown",
   "metadata": {},
   "source": [
    "# H(X) function \n",
    "\n",
    "Using the extracted values from above, I was able to formulate the following equation:\n",
    "$$ h(x) = 9.78647552 * 10^{-5} -2.67*10^{-7}x_{1} +  2.52*10^{-7}x_{2} + 6x_{1}^{2} ... $$"
   ]
  }
 ],
 "metadata": {
  "kernelspec": {
   "display_name": "Python 3",
   "language": "python",
   "name": "python3"
  },
  "language_info": {
   "codemirror_mode": {
    "name": "ipython",
    "version": 3
   },
   "file_extension": ".py",
   "mimetype": "text/x-python",
   "name": "python",
   "nbconvert_exporter": "python",
   "pygments_lexer": "ipython3",
   "version": "3.8.6"
  }
 },
 "nbformat": 4,
 "nbformat_minor": 4
}
